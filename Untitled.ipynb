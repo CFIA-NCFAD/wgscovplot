{
 "cells": [
  {
   "cell_type": "code",
   "execution_count": 9,
   "id": "1157b8b3",
   "metadata": {},
   "outputs": [
    {
     "name": "stdout",
     "output_type": "stream",
     "text": [
      "1 265 1\n",
      "266 21555 1\n",
      "21563 25384 1\n",
      "25393 26220 1\n",
      "26245 26472 1\n",
      "26523 27191 1\n",
      "27202 27387 1\n",
      "27394 27759 1\n",
      "27894 28259 1\n",
      "28274 29533 1\n",
      "29558 29674 1\n",
      "29675 29903 1\n"
     ]
    }
   ],
   "source": [
    "from Bio import Entrez\n",
    "from Bio import SeqIO\n",
    "\n",
    "with Entrez.efetch(\n",
    "    db=\"nucleotide\", rettype=\"gb\", retmode=\"text\", id=\"MN908947.3\"\n",
    ") as handle:\n",
    "    for seq_record in SeqIO.parse(handle, \"gb\"):\n",
    "        for seq_feature in seq_record.features:\n",
    "            if seq_feature.type in [\"CDS\", \"source\"]:\n",
    "                continue\n",
    "            if seq_feature.type in [\"5'UTR\", \"3'UTR\"]:\n",
    "                feature_name = seq_feature.type\n",
    "            else:\n",
    "                if seq_feature.qualifiers.get('gene'):\n",
    "                    feature_name = seq_feature.qualifiers['gene'][0]\n",
    "                elif seq_feature.qualifiers.get('locus_tag'):\n",
    "                    feature_name = seq_feature.qualifiers['locus_tag'][0]\n",
    "                else:\n",
    "                    feature_name = seq_feature.id\n",
    "            start_pos = int(seq_feature.location.start) + 1\n",
    "            end_pos = int(seq_feature.location.end)\n",
    "            strand = seq_feature.strand\n",
    "            print (start_pos, end_pos, strand)"
   ]
  },
  {
   "cell_type": "code",
   "execution_count": null,
   "id": "5cc714e2",
   "metadata": {},
   "outputs": [],
   "source": []
  }
 ],
 "metadata": {
  "kernelspec": {
   "display_name": "Python 3 (ipykernel)",
   "language": "python",
   "name": "python3"
  },
  "language_info": {
   "codemirror_mode": {
    "name": "ipython",
    "version": 3
   },
   "file_extension": ".py",
   "mimetype": "text/x-python",
   "name": "python",
   "nbconvert_exporter": "python",
   "pygments_lexer": "ipython3",
   "version": "3.8.5"
  }
 },
 "nbformat": 4,
 "nbformat_minor": 5
}
